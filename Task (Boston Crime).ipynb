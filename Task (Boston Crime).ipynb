{
 "cells": [
  {
   "cell_type": "code",
   "execution_count": null,
   "id": "4f541a8c",
   "metadata": {},
   "outputs": [],
   "source": [
    "import pandas as pd\n",
    "import numpy as np\n",
    "import matplotlib.pyplot as plt\n",
    "import seaborn as sns\n",
    "import warnings\n",
    "warnings.filterwarnings('ignore')"
   ]
  },
  {
   "cell_type": "markdown",
   "id": "3b02c6bb",
   "metadata": {},
   "source": [
    "### Exploratory Data Analysis"
   ]
  },
  {
   "cell_type": "code",
   "execution_count": null,
   "id": "a76186c0",
   "metadata": {},
   "outputs": [],
   "source": [
    "df = pd.read_csv('crime.csv', encoding=\"windows-1252\")"
   ]
  },
  {
   "cell_type": "code",
   "execution_count": null,
   "id": "7281deb4",
   "metadata": {},
   "outputs": [],
   "source": [
    "df.head()"
   ]
  },
  {
   "cell_type": "code",
   "execution_count": null,
   "id": "88f87a01",
   "metadata": {},
   "outputs": [],
   "source": [
    "df.info()"
   ]
  },
  {
   "cell_type": "code",
   "execution_count": null,
   "id": "2b5f6588",
   "metadata": {},
   "outputs": [],
   "source": [
    "df.isna().sum()"
   ]
  },
  {
   "cell_type": "markdown",
   "id": "228e6f68",
   "metadata": {},
   "source": [
    "### 1). Write a script that shows count of Auto Theft and Towed by Phase of Day(as index) vs Month(as column).\n",
    "\n",
    "Step 1: Filter rows for 'Auto Theft' and 'Towed'\n",
    "<br>\n",
    "Step 2: Extract the necessary columns for the date and offense type Assuming 'OCCURRED_ON_DATE' is the datetime column in the dataframe\n",
    "<br>\n",
    "Step 3: Create 'Phase of Day' column\n",
    "<br>\n",
    "Step 4: Extract the month from the date\n",
    "<br>\n",
    "Step 5: Group by 'Phase of Day' and 'Month' and count occurrences"
   ]
  },
  {
   "cell_type": "code",
   "execution_count": null,
   "id": "bcd574d9",
   "metadata": {},
   "outputs": [],
   "source": [
    "auto_theft_towed_df = df[df['OFFENSE_CODE_GROUP'].isin(['Auto Theft', 'Towed'])]"
   ]
  },
  {
   "cell_type": "code",
   "execution_count": null,
   "id": "88c1bb46",
   "metadata": {},
   "outputs": [],
   "source": [
    "auto_theft_towed_df['OCCURRED_ON_DATE'] = pd.to_datetime(auto_theft_towed_df['OCCURRED_ON_DATE'])"
   ]
  },
  {
   "cell_type": "code",
   "execution_count": null,
   "id": "ca56648b",
   "metadata": {},
   "outputs": [],
   "source": [
    "auto_theft_towed_df.head()"
   ]
  },
  {
   "cell_type": "code",
   "execution_count": null,
   "id": "de2b8b4e",
   "metadata": {},
   "outputs": [],
   "source": [
    "def get_phase_of_day(hour):\n",
    "    if 6 <= hour < 11:\n",
    "        return 'Morning'\n",
    "    elif 11 <= hour < 17:\n",
    "        return 'Noon'\n",
    "    elif 17 <= hour < 20:\n",
    "        return 'Evening'\n",
    "    else:\n",
    "        return 'Night'"
   ]
  },
  {
   "cell_type": "code",
   "execution_count": null,
   "id": "583121cf",
   "metadata": {},
   "outputs": [],
   "source": [
    "auto_theft_towed_df['Hour'] = auto_theft_towed_df['OCCURRED_ON_DATE'].dt.hour"
   ]
  },
  {
   "cell_type": "code",
   "execution_count": null,
   "id": "9be190fc",
   "metadata": {},
   "outputs": [],
   "source": [
    "auto_theft_towed_df['Phase of the day'] = auto_theft_towed_df['Hour'].apply(get_phase_of_day)"
   ]
  },
  {
   "cell_type": "code",
   "execution_count": null,
   "id": "6f9edc9e",
   "metadata": {},
   "outputs": [],
   "source": [
    "auto_theft_towed_df.head()"
   ]
  },
  {
   "cell_type": "code",
   "execution_count": null,
   "id": "795652df",
   "metadata": {},
   "outputs": [],
   "source": [
    "result = auto_theft_towed_df.groupby(['Phase of the day', 'MONTH']).size().unstack(fill_value=0)"
   ]
  },
  {
   "cell_type": "code",
   "execution_count": null,
   "id": "3d49a84f",
   "metadata": {},
   "outputs": [],
   "source": [
    "result.columns.name = None\n",
    "result.index.name = None\n",
    "print(result)"
   ]
  },
  {
   "cell_type": "markdown",
   "id": "faa8be80",
   "metadata": {},
   "source": [
    "### 2. Write script to get offense (full offense name provided in offense_codes.csv file) per district which has maximum occurrence in respective district\n",
    "\n",
    "Step 1: Group by district and offense description and count the occurrences. Assuming 'DISTRICT' and 'OFFENSE_DESCRIPTION' (from merged data) are the columns\n",
    "<br>\n",
    "Step 2: For each district, find the offense with the maximum count.\n",
    "<br>\n",
    "Step 3: Display the result"
   ]
  },
  {
   "cell_type": "code",
   "execution_count": null,
   "id": "2b5100f7",
   "metadata": {},
   "outputs": [],
   "source": [
    "offense_counts = df.groupby(['DISTRICT','OFFENSE_DESCRIPTION']).size().reset_index(name='Count')"
   ]
  },
  {
   "cell_type": "code",
   "execution_count": null,
   "id": "a6d5f51a",
   "metadata": {},
   "outputs": [],
   "source": [
    "offense_counts.head()"
   ]
  },
  {
   "cell_type": "code",
   "execution_count": null,
   "id": "c04994fd",
   "metadata": {},
   "outputs": [],
   "source": [
    "max_offense_per_district = offense_counts.loc[offense_counts.groupby('DISTRICT')['Count'].idxmax()]"
   ]
  },
  {
   "cell_type": "code",
   "execution_count": null,
   "id": "184e8a1a",
   "metadata": {},
   "outputs": [],
   "source": [
    "max_offense_per_district"
   ]
  },
  {
   "cell_type": "markdown",
   "id": "3acde9c2",
   "metadata": {},
   "source": [
    "### 3. Add a column to data set which contains date of last incidents happened in respective district For Example: if a state has N incidents, a column should be added to dataset with (i+1)th incident having date of ith incident in that column\n",
    "\n",
    "Step 1: Ensure the 'OCCURRED_ON_DATE' column is in datetime format\n",
    "<br>\n",
    "Step 2: Sort the dataframe by 'DISTRICT' and 'OCCURRED_ON_DATE'\n",
    "<br>\n",
    "Step 3: Create a new column for the previous incident date\n",
    "<br>\n",
    "Step 4: Display the dataframe with the new column"
   ]
  },
  {
   "cell_type": "code",
   "execution_count": null,
   "id": "35631c5e",
   "metadata": {},
   "outputs": [],
   "source": [
    "df.info()"
   ]
  },
  {
   "cell_type": "code",
   "execution_count": null,
   "id": "d8d66879",
   "metadata": {},
   "outputs": [],
   "source": [
    "df_sorted = df.sort_values(by=['DISTRICT', 'OCCURRED_ON_DATE'])"
   ]
  },
  {
   "cell_type": "code",
   "execution_count": null,
   "id": "4aa310fa",
   "metadata": {},
   "outputs": [],
   "source": [
    "df_sorted['Previous_Incident_Date'] = df_sorted.groupby('DISTRICT')['OCCURRED_ON_DATE'].shift(1)"
   ]
  },
  {
   "cell_type": "code",
   "execution_count": null,
   "id": "1f6cd7be",
   "metadata": {},
   "outputs": [],
   "source": [
    "df_sorted[['DISTRICT', 'OCCURRED_ON_DATE', 'Previous_Incident_Date']]"
   ]
  },
  {
   "cell_type": "markdown",
   "id": "6a396391",
   "metadata": {},
   "source": [
    "### 4.Write a script to identify street having maximum number of incidents for every district\n",
    "Step 1: Group by 'DISTRICT' and 'STREET' (or equivalent street column) and count the occurrences Assuming 'STREET' is the column with the street name where the incident occurred\n",
    "<br>\n",
    "Step 2: For each district, find the street with the maximum incidents\n",
    "<br>\n",
    "Step 3: Display the result"
   ]
  },
  {
   "cell_type": "code",
   "execution_count": null,
   "id": "415a211c",
   "metadata": {},
   "outputs": [],
   "source": [
    "street_counts = df.groupby(['DISTRICT', 'STREET']).size().reset_index(name='Count')"
   ]
  },
  {
   "cell_type": "code",
   "execution_count": null,
   "id": "2caa9314",
   "metadata": {},
   "outputs": [],
   "source": [
    "max_street_per_district = street_counts.loc[street_counts.groupby('DISTRICT')['Count'].idxmax()]"
   ]
  },
  {
   "cell_type": "code",
   "execution_count": null,
   "id": "a7302d43",
   "metadata": {},
   "outputs": [],
   "source": [
    "max_street_per_district"
   ]
  },
  {
   "cell_type": "markdown",
   "id": "ddce5e3e",
   "metadata": {},
   "source": [
    "### 5. Create a subset of data, with only 10 recent incidents for each Street\n",
    "\n",
    "Step 1: Sort the data by 'STREET' and 'OCCURRED_ON_DATE' (descending order to get the most recent first)\n",
    "<br>\n",
    "Step 2: Group by 'STREET' and take the top 10 incidents for each street\n",
    "<br>\n",
    "Step 3: Display the subset of the DataFrame with the 10 most recent incidents per street"
   ]
  },
  {
   "cell_type": "code",
   "execution_count": null,
   "id": "33b1928c",
   "metadata": {},
   "outputs": [],
   "source": [
    "df_sorted = df.sort_values(by=['STREET', 'OCCURRED_ON_DATE'], ascending=[True, False])"
   ]
  },
  {
   "cell_type": "code",
   "execution_count": null,
   "id": "72b6b45c",
   "metadata": {},
   "outputs": [],
   "source": [
    "top_10_per_street = df_sorted.groupby('STREET').head(10)"
   ]
  },
  {
   "cell_type": "code",
   "execution_count": null,
   "id": "53138de1",
   "metadata": {},
   "outputs": [],
   "source": [
    "top_10_per_street"
   ]
  },
  {
   "cell_type": "code",
   "execution_count": null,
   "id": "fb09b554",
   "metadata": {},
   "outputs": [],
   "source": []
  }
 ],
 "metadata": {
  "kernelspec": {
   "display_name": "Python 3 (ipykernel)",
   "language": "python",
   "name": "python3"
  },
  "language_info": {
   "codemirror_mode": {
    "name": "ipython",
    "version": 3
   },
   "file_extension": ".py",
   "mimetype": "text/x-python",
   "name": "python",
   "nbconvert_exporter": "python",
   "pygments_lexer": "ipython3",
   "version": "3.11.5"
  }
 },
 "nbformat": 4,
 "nbformat_minor": 5
}
